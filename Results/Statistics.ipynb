{
 "cells": [
  {
   "cell_type": "code",
   "execution_count": 25,
   "id": "bc0f63d4",
   "metadata": {},
   "outputs": [
    {
     "name": "stdout",
     "output_type": "stream",
     "text": [
      "[4.23517e+02 0.00000e+00 0.00000e+00 1.00000e+00 4.23517e+02 4.46890e+01\n",
      " 5.58800e+00 1.30000e-01 2.02800e+00 5.04070e+01]\n",
      "[36.42984643  0.          0.          0.         36.42984643 22.32474589\n",
      "  5.37719778  0.48072861  0.38886502 25.81424705]\n",
      "[531   0   0   1 531 126  49   6   3 146]\n"
     ]
    }
   ],
   "source": [
    "import numpy as np\n",
    "\n",
    "\n",
    "with open('results_1000_2_50000_100000_1_100', 'r') as file:\n",
    "    data = np.array([line.rstrip().split(' ') for line in file]).astype(int)\n",
    "    \n",
    "\n",
    "print(np.average(data, axis=0))\n",
    "print(np.std(data, axis=0))\n",
    "print(np.max(data, axis=0))\n",
    "        "
   ]
  },
  {
   "cell_type": "code",
   "execution_count": null,
   "id": "87f33fa2",
   "metadata": {},
   "outputs": [],
   "source": []
  }
 ],
 "metadata": {
  "kernelspec": {
   "display_name": "Python 3 (ipykernel)",
   "language": "python",
   "name": "python3"
  },
  "language_info": {
   "codemirror_mode": {
    "name": "ipython",
    "version": 3
   },
   "file_extension": ".py",
   "mimetype": "text/x-python",
   "name": "python",
   "nbconvert_exporter": "python",
   "pygments_lexer": "ipython3",
   "version": "3.12.3"
  }
 },
 "nbformat": 4,
 "nbformat_minor": 5
}
