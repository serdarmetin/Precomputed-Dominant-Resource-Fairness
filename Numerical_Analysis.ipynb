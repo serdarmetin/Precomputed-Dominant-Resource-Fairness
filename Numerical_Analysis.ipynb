{
 "cells": [
  {
   "cell_type": "code",
   "execution_count": 1,
   "id": "9ba7636b",
   "metadata": {
    "scrolled": true
   },
   "outputs": [],
   "source": [
    "def pdrf():\n",
    "    global c_pdrf\n",
    "    for i, demand in enumerate(d_pdrf[0]):\n",
    "        u_pdrf[d_pdrf[1][i]] += demand * np.floor(rates[0][i] * cycleIterations)\n",
    "        c_pdrf += demand * np.floor(rates[0][i] * cycleIterations)\n",
    "        s_pdrf[d_pdrf[1][i]] += ds_pdrf[0][i] * np.floor(rates[0][i] * cycleIterations)"
   ]
  },
  {
   "cell_type": "code",
   "execution_count": 2,
   "id": "d58666dd",
   "metadata": {},
   "outputs": [],
   "source": [
    "def drf():\n",
    "    global c_drf\n",
    "    while(1):\n",
    "        i = np.argmin(s_drf)\n",
    "        if (r < d_drf[i] + c_drf).any():\n",
    "            break\n",
    "        else:\n",
    "            u_drf[i] += d_drf[i]\n",
    "            s_drf[i] += ds_drf[0][i]\n",
    "            c_drf += d_drf[i]"
   ]
  },
  {
   "cell_type": "code",
   "execution_count": 3,
   "id": "a95f304f",
   "metadata": {},
   "outputs": [],
   "source": [
    "def update():\n",
    "    i = ds_pdrf[0].argmax()\n",
    "\n",
    "    d_pdrf[0] = np.delete(d_pdrf[0], i, axis=0)\n",
    "    d_pdrf[1] = np.delete(d_pdrf[1], i, axis=0)\n",
    "    ds_pdrf[0] = np.delete(ds_pdrf[0], i, axis=0)\n",
    "    ds_pdrf[1] = np.delete(ds_pdrf[1], i, axis=0)\n",
    "\n",
    "    s_max = np.max(ds_pdrf[0]) * np.ones(len(d_pdrf[0]))\n",
    "    rates = [s_max / ds_pdrf[0], np.expand_dims(np.arange(len(d_pdrf[0]),), axis=1)]\n",
    "\n",
    "    cycleDemands = np.sum(rates[0][:,np.newaxis] * d_pdrf[0], axis=0)\n",
    "    cycleIterations = np.min((r - c_pdrf) / cycleDemands)\n",
    "\n",
    "#    print(i)\n",
    "#    print(cycleDemands)\n",
    "#    print(cycleIterations)"
   ]
  },
  {
   "cell_type": "code",
   "execution_count": 4,
   "id": "90751a21",
   "metadata": {},
   "outputs": [],
   "source": [
    "def check_cycles():\n",
    "    global cycleDemands\n",
    "    global cycleIterations\n",
    "    s_max = np.max(ds_pdrf[0]) * np.ones(len(d_pdrf[0]))\n",
    "    rates = [s_max / ds_pdrf[0], np.expand_dims(np.arange(len(d_pdrf[0]),), axis=1)]\n",
    "\n",
    "    cycleDemands = np.sum(rates[0][:,np.newaxis] * d_pdrf[0], axis=0)\n",
    "    cycleIterations = np.min((r - c_pdrf) / cycleDemands)\n",
    "\n",
    "    print(cycleDemands)\n",
    "    print(cycleIterations)"
   ]
  },
  {
   "cell_type": "code",
   "execution_count": 5,
   "id": "798e41e7",
   "metadata": {
    "scrolled": true
   },
   "outputs": [
    {
     "name": "stdout",
     "output_type": "stream",
     "text": [
      "[[ 8  9  6 ...  3  3  5]\n",
      " [ 6  1  4 ...  2 10  9]\n",
      " [ 6  1  3 ...  8  7  9]\n",
      " ...\n",
      " [ 8 10  4 ...  2  4  8]\n",
      " [ 7  6  1 ...  2  8  5]\n",
      " [ 5  7 10 ...  2  8  2]]\n"
     ]
    }
   ],
   "source": [
    "import numpy as np\n",
    "import math\n",
    "from numpy import random\n",
    "\n",
    "numberOfUsers = 10000\n",
    "numberOfResources = 10\n",
    "\n",
    "r_low = 1000000\n",
    "r_high = 10000001\n",
    "\n",
    "d_low = 1\n",
    "d_high = 11\n",
    "\n",
    "r = np.random.randint(r_low, r_high, numberOfResources) #resources\n",
    "c = np.zeros(numberOfResources) #consumed amounts\n",
    "#d = [np.random.randint(d_low, d_high, (numberOfUsers, numberOfResources)), np.expand_dims(np.arange(10), axis=1)] #demand vector\n",
    "d = np.random.randint(d_low, d_high, (numberOfUsers, numberOfResources)) #demand vector\n",
    "\n",
    "print(d)"
   ]
  },
  {
   "cell_type": "code",
   "execution_count": 6,
   "id": "4fa2c956",
   "metadata": {},
   "outputs": [],
   "source": [
    "u_drf = np.zeros((numberOfUsers, numberOfResources)) #resources allocated to users\n",
    "c_drf = np.zeros(numberOfResources) #resources allocated to users\n",
    "s_drf = np.zeros(numberOfUsers) #allocated dominant shares of users\n",
    "ds_drf = [(d / r).max(axis=1), np.expand_dims(np.arange(10), axis=1)]\n",
    "d_drf = np.copy(d)\n",
    "\n",
    "u_pdrf = np.zeros((numberOfUsers, numberOfResources)) #resources allocated to users\n",
    "c_pdrf = np.zeros(numberOfResources) #resources allocated to users\n",
    "s_pdrf = np.zeros(numberOfUsers) #allocated dominant shares of users\n",
    "ds_pdrf = [(d / r).max(axis=1), np.expand_dims(np.arange(numberOfUsers), axis=1)]\n",
    "d_pdrf = [d, np.expand_dims(np.arange(numberOfUsers), axis=1)]\n",
    "\n",
    "s_max = np.max(ds_pdrf[0]) * np.ones(len(d_pdrf[0]))\n",
    "rates = [s_max / ds_pdrf[0], np.expand_dims(np.arange(len(d_pdrf[0]),), axis=1)]\n",
    "\n",
    "cycleDemands = np.sum(rates[0][:,np.newaxis] * d_pdrf[0], axis=0)\n",
    "cycleIterations = np.min(r / cycleDemands)"
   ]
  },
  {
   "cell_type": "code",
   "execution_count": 7,
   "id": "a07944e8",
   "metadata": {
    "scrolled": true
   },
   "outputs": [
    {
     "name": "stdout",
     "output_type": "stream",
     "text": [
      "[[ 8  9  6 ...  3  3  5]\n",
      " [ 6  1  4 ...  2 10  9]\n",
      " [ 6  1  3 ...  8  7  9]\n",
      " ...\n",
      " [ 8 10  4 ...  2  4  8]\n",
      " [ 7  6  1 ...  2  8  5]\n",
      " [ 5  7 10 ...  2  8  2]]\n"
     ]
    }
   ],
   "source": [
    "print(d_pdrf[0])"
   ]
  },
  {
   "cell_type": "markdown",
   "id": "997b6b37",
   "metadata": {
    "scrolled": true
   },
   "source": [
    "print(r)"
   ]
  },
  {
   "cell_type": "code",
   "execution_count": 8,
   "id": "db5b6c8d",
   "metadata": {},
   "outputs": [],
   "source": [
    "drf()"
   ]
  },
  {
   "cell_type": "code",
   "execution_count": 9,
   "id": "fcfc9214",
   "metadata": {},
   "outputs": [],
   "source": [
    "pdrf()"
   ]
  },
  {
   "cell_type": "code",
   "execution_count": 10,
   "id": "4ce8063f",
   "metadata": {
    "scrolled": false
   },
   "outputs": [
    {
     "name": "stdout",
     "output_type": "stream",
     "text": [
      "[[1. 1. 1. ... 1. 1. 1.]\n",
      " [0. 0. 0. ... 0. 0. 0.]\n",
      " [0. 0. 0. ... 0. 0. 0.]\n",
      " ...\n",
      " [0. 0. 0. ... 0. 0. 0.]\n",
      " [0. 0. 0. ... 0. 0. 0.]\n",
      " [0. 0. 0. ... 0. 0. 0.]]\n"
     ]
    }
   ],
   "source": [
    "difference = (u_drf - u_pdrf) / d\n",
    "print(difference)\n",
    "#for line in difference:\n",
    "#    print(line)"
   ]
  },
  {
   "cell_type": "code",
   "execution_count": 11,
   "id": "ca1a2979",
   "metadata": {
    "scrolled": false
   },
   "outputs": [
    {
     "name": "stdout",
     "output_type": "stream",
     "text": [
      "Number of Overallocations is: 3\n",
      "Number of Underallocations is: 4021\n",
      "Maximum Overallocation is 1 task(s).\n",
      "Maximum Underallocation is 1 task(s).\n"
     ]
    }
   ],
   "source": [
    "print(\"Number of Overallocations is:\", np.count_nonzero(difference < 0, axis=0)[0])\n",
    "print(\"Number of Underallocations is:\", np.count_nonzero(difference, axis=0)[0] - np.count_nonzero(difference < 0, axis=0)[0])\n",
    "print(\"Maximum Overallocation is\", int(np.absolute(difference.min(axis=0).min())), \"task(s).\")\n",
    "print(\"Maximum Underallocation is\", int(difference.max(axis=0).max()), \"task(s).\")\n"
   ]
  },
  {
   "cell_type": "markdown",
   "id": "550ac8cc",
   "metadata": {
    "scrolled": true
   },
   "source": [
    "check_cycles()"
   ]
  },
  {
   "cell_type": "markdown",
   "id": "9d6c0b62",
   "metadata": {
    "scrolled": false
   },
   "source": [
    "for i in range(10):\n",
    "    update()"
   ]
  },
  {
   "cell_type": "markdown",
   "id": "f4d4188f",
   "metadata": {
    "scrolled": false
   },
   "source": [
    "print(len(d_pdrf[0]))"
   ]
  },
  {
   "cell_type": "markdown",
   "id": "c150d79f",
   "metadata": {},
   "source": [
    "print(u_pdrf)"
   ]
  },
  {
   "cell_type": "markdown",
   "id": "f76d9282",
   "metadata": {},
   "source": [
    "print(np.sort((u_drf / r).max(axis=1)))"
   ]
  },
  {
   "cell_type": "markdown",
   "id": "52fff4c0",
   "metadata": {},
   "source": [
    "print(np.sort((u_pdrf / r).max(axis=1)))"
   ]
  }
 ],
 "metadata": {
  "kernelspec": {
   "display_name": "Python 3 (ipykernel)",
   "language": "python",
   "name": "python3"
  },
  "language_info": {
   "codemirror_mode": {
    "name": "ipython",
    "version": 3
   },
   "file_extension": ".py",
   "mimetype": "text/x-python",
   "name": "python",
   "nbconvert_exporter": "python",
   "pygments_lexer": "ipython3",
   "version": "3.12.3"
  }
 },
 "nbformat": 4,
 "nbformat_minor": 5
}
