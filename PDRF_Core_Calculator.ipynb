{
 "cells": [
  {
   "cell_type": "code",
   "execution_count": 17,
   "id": "798e41e7",
   "metadata": {
    "scrolled": true
   },
   "outputs": [
    {
     "name": "stdout",
     "output_type": "stream",
     "text": [
      "Dominant shares are:\n",
      "[0.0008604000860400087, 0.0003956217855729922]\n"
     ]
    }
   ],
   "source": [
    "import numpy as np\n",
    "import math\n",
    "from numpy import random\n",
    "\n",
    "numberOfUsers = 2\n",
    "numberOfResources = 2\n",
    "\n",
    "r = [7583, 4649] #resources\n",
    "c = [0, 0] #consumed amounts\n",
    "s = [0, 0] #allocated dominant shares of users\n",
    "n = [] #needed capacity to make one more round of distribution\n",
    "u_drf = [[0,0], [0,0]] #resources allocated to users by drf\n",
    "u_pdrf = [[0,0], [0,0]] #resources allocated to users by pdrf\n",
    "\n",
    "\n",
    "d = np.array([[1,4], [3,1]]) #demand vector\n",
    "\n",
    "ds = []\n",
    "\n",
    "for i in d:\n",
    "    ds.append(np.max(i / r))\n",
    "\n",
    "print(\"Dominant shares for users, respectively, are:\")\n",
    "print(ds)"
   ]
  },
  {
   "cell_type": "code",
   "execution_count": 22,
   "id": "d58666dd",
   "metadata": {},
   "outputs": [
    {
     "name": "stdout",
     "output_type": "stream",
     "text": [
      "DRF allocation is\n",
      "[array([ 753, 3012]), array([4911, 1637])]\n",
      "DRF leftover resources reserves are:\n",
      "[1919    0]\n"
     ]
    }
   ],
   "source": [
    "while(1):\n",
    "    i = np.argmin(s)\n",
    "    if (r < d[i] + c).any():\n",
    "        break\n",
    "    else:\n",
    "        u_drf[i] += d[i]\n",
    "        s[i] = s[i] + ds[i]\n",
    "        c = c + d[i]\n",
    "        \n",
    "print(\"DRF allocation is\")\n",
    "print(u_drf)\n",
    "print(\"DRF leftover resources reserves are:\")\n",
    "print(r - c)"
   ]
  },
  {
   "cell_type": "code",
   "execution_count": 27,
   "id": "9ba7636b",
   "metadata": {
    "scrolled": true
   },
   "outputs": [
    {
     "name": "stdout",
     "output_type": "stream",
     "text": [
      "The cycle can take 752 iterations.\n",
      "At each iteration, cycle allocates [7.52441385 6.17480462] units of resources at avarage, respectively\n"
     ]
    }
   ],
   "source": [
    "c = [0, 0]\n",
    "numberOfUsers = 2\n",
    "ds_max = np.max(ds) * np.ones(numberOfUsers)\n",
    "rates = ds_max / ds\n",
    "\n",
    "cycleDemands = np.matmul([1,1], rates[:,np.newaxis] * d)\n",
    "cycleIterations = np.min(r / cycleDemands)\n",
    "\n",
    "print(\"The cycle can take\", int(np.floor(cycleIterations)), \"iterations.\")\n",
    "print(\"At each iteration, cycle allocates\", cycleDemands, \"units of resources at avarage, respectively\")"
   ]
  },
  {
   "cell_type": "code",
   "execution_count": 28,
   "id": "fa69a361",
   "metadata": {},
   "outputs": [
    {
     "name": "stdout",
     "output_type": "stream",
     "text": [
      "PDRF allocation is:\n",
      "[array([ 752., 3008.]), array([4911., 1637.])]\n",
      "PDRF leftover resources reserves are:\n",
      "[1920.    4.]\n"
     ]
    }
   ],
   "source": [
    "u_pdrf = [[0,0], [0,0]]\n",
    "\n",
    "for i, demand in enumerate(d):\n",
    "    u_pdrf[i] += demand * np.floor(rates[i] * cycleIterations)\n",
    "    c += demand * np.floor(rates[i] * cycleIterations)\n",
    "    \n",
    "print(\"PDRF allocation is:\")\n",
    "print(u_pdrf)\n",
    "print(\"PDRF leftover resources reserves are:\")\n",
    "print(r - c)"
   ]
  }
 ],
 "metadata": {
  "kernelspec": {
   "display_name": "Python 3 (ipykernel)",
   "language": "python",
   "name": "python3"
  },
  "language_info": {
   "codemirror_mode": {
    "name": "ipython",
    "version": 3
   },
   "file_extension": ".py",
   "mimetype": "text/x-python",
   "name": "python",
   "nbconvert_exporter": "python",
   "pygments_lexer": "ipython3",
   "version": "3.12.3"
  }
 },
 "nbformat": 4,
 "nbformat_minor": 5
}
