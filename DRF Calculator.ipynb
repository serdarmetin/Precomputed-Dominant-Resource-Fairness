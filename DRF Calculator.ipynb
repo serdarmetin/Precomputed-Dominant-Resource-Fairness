{
 "cells": [
  {
   "cell_type": "code",
   "execution_count": 5,
   "id": "798e41e7",
   "metadata": {
    "scrolled": true
   },
   "outputs": [
    {
     "name": "stdout",
     "output_type": "stream",
     "text": [
      "The dominant share of user A is 0.21052631578947367\n",
      "The dominant share of user B is 0.05263157894736842\n"
     ]
    }
   ],
   "source": [
    "import numpy as np\n",
    "\n",
    "r = [59, 19] #resources\n",
    "c = [0, 0] #consumed amounts\n",
    "s = [0, 0] #allocated dominant shares of users\n",
    "u = [[0,0], [0,0]] #resources allocated to users\n",
    "\n",
    "d = np.array([[1,4], [3,1]]) #demand vector\n",
    "\n",
    "ds = [] #dominant shares array\n",
    "\n",
    "for i in d:\n",
    "    ds.append(np.max(i / r))\n",
    "\n",
    "print('The dominant share of user A is', ds[0])\n",
    "print('The dominant share of user B is', ds[1])"
   ]
  },
  {
   "cell_type": "code",
   "execution_count": 6,
   "id": "9eb64c79",
   "metadata": {
    "scrolled": true
   },
   "outputs": [
    {
     "name": "stdout",
     "output_type": "stream",
     "text": [
      "The total allocation of user A is: [2 8]\n",
      "The total allocation of user B is: [24  8]\n",
      "The remaining resources are: [33  3]\n",
      "10 iterations are taken\n"
     ]
    }
   ],
   "source": [
    "iterations = 0\n",
    "\n",
    "while(1):\n",
    "    i = np.argmin(s)\n",
    "    if(sum(r < d[i] + c)):\n",
    "        break\n",
    "    else:\n",
    "        u[i] += d[i]\n",
    "        s[i] = s[i] + ds[i]\n",
    "        c = c + d[i]\n",
    "        iterations += 1\n",
    "#        print(\"User\", i + 1, \"is allocated\")\n",
    "        \n",
    "print('The total allocation of user A is:', u[0])\n",
    "print('The total allocation of user B is:', u[1])\n",
    "print('The remaining resources are:', r - c)\n",
    "print(iterations, 'iterations are taken')"
   ]
  }
 ],
 "metadata": {
  "kernelspec": {
   "display_name": "Python 3 (ipykernel)",
   "language": "python",
   "name": "python3"
  },
  "language_info": {
   "codemirror_mode": {
    "name": "ipython",
    "version": 3
   },
   "file_extension": ".py",
   "mimetype": "text/x-python",
   "name": "python",
   "nbconvert_exporter": "python",
   "pygments_lexer": "ipython3",
   "version": "3.12.3"
  }
 },
 "nbformat": 4,
 "nbformat_minor": 5
}
