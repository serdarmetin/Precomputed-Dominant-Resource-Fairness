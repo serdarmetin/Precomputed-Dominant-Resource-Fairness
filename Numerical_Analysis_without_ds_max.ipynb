{
 "cells": [
  {
   "cell_type": "code",
   "execution_count": 1,
   "id": "9ba7636b",
   "metadata": {
    "scrolled": true
   },
   "outputs": [],
   "source": [
    "def pdrf():\n",
    "    global c_pdrf\n",
    "    for i, demand in enumerate(d_pdrf[0]):\n",
    "        u_pdrf[d_pdrf[1][i]] += demand * np.floor(cycleIterations / ds_pdrf[0][i])\n",
    "        c_pdrf += demand * np.floor(cycleIterations / ds_pdrf[0][i])\n",
    "        s_pdrf[d_pdrf[1][i]] += ds_pdrf[0][i] * np.floor(cycleIterations / ds_pdrf[0][i])"
   ]
  },
  {
   "cell_type": "code",
   "execution_count": 2,
   "id": "d58666dd",
   "metadata": {},
   "outputs": [],
   "source": [
    "def drf():\n",
    "    global c_drf\n",
    "    while(1):\n",
    "        i = np.argmin(s_drf)\n",
    "        if (r < d_drf[i] + c_drf).any():\n",
    "            break\n",
    "        else:\n",
    "            u_drf[i] += d_drf[i]\n",
    "            s_drf[i] += ds_drf[0][i]\n",
    "            c_drf += d_drf[i]"
   ]
  },
  {
   "cell_type": "code",
   "execution_count": 3,
   "id": "798e41e7",
   "metadata": {
    "scrolled": true
   },
   "outputs": [
    {
     "name": "stdout",
     "output_type": "stream",
     "text": [
      "[[ 8  5]\n",
      " [10  7]\n",
      " [ 6  7]\n",
      " ...\n",
      " [10  1]\n",
      " [ 5  7]\n",
      " [ 4 10]]\n",
      "[629925 287715]\n"
     ]
    }
   ],
   "source": [
    "import numpy as np\n",
    "import math\n",
    "from numpy import random\n",
    "\n",
    "numberOfUsers = 1000\n",
    "numberOfResources = 2\n",
    "\n",
    "r_low = 100000\n",
    "r_high = 1000001\n",
    "\n",
    "d_low = 1\n",
    "d_high = 11\n",
    "\n",
    "r = np.random.randint(r_low, r_high, numberOfResources) #resources\n",
    "c = np.zeros(numberOfResources) #consumed amounts\n",
    "#d = [np.random.randint(d_low, d_high, (numberOfUsers, numberOfResources)), np.expand_dims(np.arange(10), axis=1)] #demand vector\n",
    "d = np.random.randint(d_low, d_high, (numberOfUsers, numberOfResources)) #demand vector\n",
    "\n",
    "print(d)\n",
    "print(r)"
   ]
  },
  {
   "cell_type": "code",
   "execution_count": 4,
   "id": "4fa2c956",
   "metadata": {
    "scrolled": true
   },
   "outputs": [],
   "source": [
    "import numpy as np\n",
    "import math\n",
    "from numpy import random\n",
    "\n",
    "numberOfUsers = 1000\n",
    "numberOfResources = 10\n",
    "\n",
    "r_low = 1000000\n",
    "r_high = 10000001\n",
    "\n",
    "#support = 5000\n",
    "#spread = 1500\n",
    "\n",
    "d_low = 1\n",
    "d_high = 11\n",
    "\n",
    "r = np.floor(np.random.randint(r_low, r_high, numberOfResources)) #resources\n",
    "#r = np.ceil(spread * 10000 * np.random.standard_normal(numberOfResources) + support * 10000) #resources\n",
    "c = np.zeros(numberOfResources) #consumed amounts\n",
    "d = np.floor(np.random.randint(d_low, d_high, (numberOfUsers, numberOfResources))) #demand vector\n",
    "#d = np.ceil(spread * np.random.standard_normal((numberOfUsers, numberOfResources)) + support) #demand vector"
   ]
  },
  {
   "cell_type": "code",
   "execution_count": 5,
   "id": "a45c4845",
   "metadata": {},
   "outputs": [],
   "source": [
    "u_drf = np.zeros((numberOfUsers, numberOfResources)) #resources allocated to users\n",
    "c_drf = np.zeros(numberOfResources) #resources allocated to users\n",
    "s_drf = np.zeros(numberOfUsers) #allocated dominant shares of users\n",
    "ds_drf = [(d / r).max(axis=1), np.expand_dims(np.arange(10), axis=1)]\n",
    "d_drf = np.copy(d)\n",
    "\n",
    "u_pdrf = np.zeros((numberOfUsers, numberOfResources)) #resources allocated to users\n",
    "c_pdrf = np.zeros(numberOfResources) #resources allocated to users\n",
    "s_pdrf = np.zeros(numberOfUsers) #allocated dominant shares of users\n",
    "ds_pdrf = [(d / r).max(axis=1), np.expand_dims(np.arange(numberOfUsers), axis=1)]\n",
    "d_pdrf = [d, np.expand_dims(np.arange(numberOfUsers), axis=1)]"
   ]
  },
  {
   "cell_type": "code",
   "execution_count": 6,
   "id": "286403a4",
   "metadata": {},
   "outputs": [],
   "source": [
    "cycleDemands = d_pdrf[0] / ds_pdrf[0][:,np.newaxis]\n",
    "cycleIterations = np.min((r - c_pdrf) / np.sum(cycleDemands, axis=0))"
   ]
  },
  {
   "cell_type": "code",
   "execution_count": 7,
   "id": "c8bfeeaa",
   "metadata": {},
   "outputs": [],
   "source": [
    "drf()\n",
    "pdrf()"
   ]
  },
  {
   "cell_type": "code",
   "execution_count": 8,
   "id": "8ecd252c",
   "metadata": {},
   "outputs": [],
   "source": [
    "difference = (u_drf - u_pdrf) / d\n",
    "#print(difference)\n",
    "#for line in difference:\n",
    "#    print(line)"
   ]
  },
  {
   "cell_type": "code",
   "execution_count": 9,
   "id": "4ba57863",
   "metadata": {},
   "outputs": [
    {
     "name": "stdout",
     "output_type": "stream",
     "text": [
      "Number of Overallocations is: 0\n",
      "Number of Underallocations is: 497\n",
      "Maximum Underallocation is 1 task(s).\n",
      "Maximum Overallocation is 0 task(s).\n"
     ]
    }
   ],
   "source": [
    "print(\"Number of Overallocations is:\", np.count_nonzero(difference < 0, axis=0)[0])\n",
    "print(\"Number of Underallocations is:\", np.count_nonzero(difference, axis=0)[0] - np.count_nonzero(difference < 0, axis=0)[0])\n",
    "print(\"Maximum Underallocation is\", int(difference.max(axis=0).max()), \"task(s).\")\n",
    "print(\"Maximum Overallocation is\", int(np.absolute(difference.min(axis=0).min())), \"task(s).\")"
   ]
  },
  {
   "cell_type": "code",
   "execution_count": null,
   "id": "b75b3b52",
   "metadata": {},
   "outputs": [],
   "source": []
  }
 ],
 "metadata": {
  "kernelspec": {
   "display_name": "Python 3 (ipykernel)",
   "language": "python",
   "name": "python3"
  },
  "language_info": {
   "codemirror_mode": {
    "name": "ipython",
    "version": 3
   },
   "file_extension": ".py",
   "mimetype": "text/x-python",
   "name": "python",
   "nbconvert_exporter": "python",
   "pygments_lexer": "ipython3",
   "version": "3.12.3"
  }
 },
 "nbformat": 4,
 "nbformat_minor": 5
}
